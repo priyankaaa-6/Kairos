{
 "cells": [
  {
   "cell_type": "code",
   "execution_count": 2,
   "metadata": {},
   "outputs": [],
   "source": [
    "import time\n",
    "import json"
   ]
  },
  {
   "cell_type": "code",
   "execution_count": 3,
   "metadata": {},
   "outputs": [],
   "source": [
    "def load_quiz_data(file_path):\n",
    "    with open(file_path, 'r') as file:\n",
    "        quiz_data = json.load(file)\n",
    "    return quiz_data\n"
   ]
  },
  {
   "cell_type": "code",
   "execution_count": 4,
   "metadata": {},
   "outputs": [],
   "source": [
    "quiz_data = load_quiz_data('quiz_data.json')"
   ]
  },
  {
   "cell_type": "code",
   "execution_count": 5,
   "metadata": {},
   "outputs": [
    {
     "data": {
      "text/plain": [
       "[{'question': 'What is the capital of France?',\n",
       "  'options': ['Paris', 'London', 'Berlin', 'Madrid'],\n",
       "  'answer': 'A'},\n",
       " {'question': 'What is 2 + 2?',\n",
       "  'options': ['3', '4', '5', '6'],\n",
       "  'answer': 'B'},\n",
       " {'question': 'What is the largest planet in our solar system?',\n",
       "  'options': ['Earth', 'Venus', 'Jupiter', 'Mars'],\n",
       "  'answer': 'C'}]"
      ]
     },
     "execution_count": 5,
     "metadata": {},
     "output_type": "execute_result"
    }
   ],
   "source": [
    "quiz_data"
   ]
  },
  {
   "cell_type": "code",
   "execution_count": 11,
   "metadata": {},
   "outputs": [
    {
     "name": "stdout",
     "output_type": "stream",
     "text": [
      "{'question': 'What is the capital of France?', 'options': ['Paris', 'London', 'Berlin', 'Madrid'], 'answer': 'A'}\n",
      "{'question': 'What is 2 + 2?', 'options': ['3', '4', '5', '6'], 'answer': 'B'}\n",
      "{'question': 'What is the largest planet in our solar system?', 'options': ['Earth', 'Venus', 'Jupiter', 'Mars'], 'answer': 'C'}\n",
      "['Paris', 'London', 'Berlin', 'Madrid']\n",
      "['3', '4', '5', '6']\n",
      "['Earth', 'Venus', 'Jupiter', 'Mars']\n"
     ]
    }
   ],
   "source": [
    "for i in quiz_data:\n",
    "    print(i)\n",
    "for i in quiz_data:\n",
    "    print(i['options'])"
   ]
  },
  {
   "cell_type": "code",
   "execution_count": null,
   "metadata": {},
   "outputs": [],
   "source": [
    "def main():\n",
    "    st.title(\"Dynamic Button Revealing Example\")\n",
    "\n",
    "    # Get or create session state for time tracking\n",
    "    state = st.session_state\n",
    "    if 'start_times' not in state:\n",
    "        state.start_times = {}\n",
    "\n",
    "    # Iterate over checkboxes\n",
    "    for i in range(1, 4):  # Adjust the range based on the number of checkboxes\n",
    "        checkbox_key = f\"Checkbox {i}\"\n",
    "        if st.checkbox(f\"Tick Checkbox {i}\"):\n",
    "            st.write(f\"Text above Button {i}\")  # Text above each button\n",
    "            start_time_checkbox_key = f\"Start Time Checkbox {i}\"\n",
    "            if start_time_checkbox_key not in state.start_times:\n",
    "                state.start_times[start_time_checkbox_key] = None\n",
    "\n",
    "            # Checkbox to start timing\n",
    "            start_time_checkbox = st.checkbox(f\"Tick this checkbox to start timing Button {i}\")\n",
    "\n",
    "            if start_time_checkbox and state.start_times[start_time_checkbox_key] is None:\n",
    "                state.start_times[start_time_checkbox_key] = time.time()  # Record the start time when the checkbox is ticked\n",
    "\n",
    "            # Submit button\n",
    "            if st.button(f\"Button {i}\"):\n",
    "                start_time = state.start_times[start_time_checkbox_key]\n",
    "                if start_time is not None:\n",
    "                    end_time = time.time()  # Record the end time when the button is clicked\n",
    "                    elapsed_time = end_time - start_time  # Calculate the elapsed time\n",
    "                    st.write(f\"Time taken for Button {i}: {elapsed_time:.2f} seconds\")\n",
    "\n",
    "if __name__ == \"__main__\":\n",
    "    main()"
   ]
  }
 ],
 "metadata": {
  "kernelspec": {
   "display_name": "Python 3",
   "language": "python",
   "name": "python3"
  },
  "language_info": {
   "codemirror_mode": {
    "name": "ipython",
    "version": 3
   },
   "file_extension": ".py",
   "mimetype": "text/x-python",
   "name": "python",
   "nbconvert_exporter": "python",
   "pygments_lexer": "ipython3",
   "version": "3.11.4"
  }
 },
 "nbformat": 4,
 "nbformat_minor": 2
}
