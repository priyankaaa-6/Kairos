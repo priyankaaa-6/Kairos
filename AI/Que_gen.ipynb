{
 "cells": [
  {
   "cell_type": "code",
   "execution_count": 1,
   "metadata": {},
   "outputs": [
    {
     "data": {
      "text/plain": [
       "True"
      ]
     },
     "execution_count": 1,
     "metadata": {},
     "output_type": "execute_result"
    }
   ],
   "source": [
    "from dotenv import load_dotenv\n",
    "import os\n",
    "load_dotenv()"
   ]
  },
  {
   "cell_type": "code",
   "execution_count": 2,
   "metadata": {},
   "outputs": [],
   "source": [
    "from IPython.display import display\n",
    "from IPython.display import Markdown\n",
    "import textwrap\n",
    "\n",
    "\n",
    "def to_markdown(text):\n",
    "  text = text.replace('•', '  *')\n",
    "  return Markdown(textwrap.indent(text, '> ', predicate=lambda _: True))"
   ]
  },
  {
   "cell_type": "code",
   "execution_count": 3,
   "metadata": {},
   "outputs": [
    {
     "name": "stderr",
     "output_type": "stream",
     "text": [
      "C:\\Users\\ravin\\AppData\\Roaming\\Python\\Python311\\site-packages\\tqdm\\auto.py:21: TqdmWarning: IProgress not found. Please update jupyter and ipywidgets. See https://ipywidgets.readthedocs.io/en/stable/user_install.html\n",
      "  from .autonotebook import tqdm as notebook_tqdm\n"
     ]
    }
   ],
   "source": [
    "import google.generativeai as genai\n",
    "genai.configure(api_key=os.getenv(\"GOOGLE_API_KEY\"))\n",
    "model = genai.GenerativeModel('gemini-pro')"
   ]
  },
  {
   "cell_type": "code",
   "execution_count": 5,
   "metadata": {},
   "outputs": [],
   "source": [
    "poompt='''\n",
    "Can you give me 5 quiz questions based on the story of rabbit and turtle, i want it in specific json file format, like -   \n",
    "[\n",
    "    {\n",
    "        \"question\": \"(Question)\",\n",
    "        \"options\": ([\"option1\", \"option2\", \"option3\", \"option4\"]),\n",
    "        \"answer\": \"(answer here)\"\n",
    "    },\n",
    "    {\n",
    "        \"question\": \"What is 2 + 2?\",\n",
    "        \"options\": [\"3\", \"4\", \"5\", \"6\"],\n",
    "        \"answer\": \"B\"\n",
    "    },\n",
    "    {\n",
    "        \"question\": \"What is the largest planet in our solar system?\",\n",
    "        \"options\": [\"Earth\", \"Venus\", \"Jupiter\", \"Mars\"],\n",
    "        \"answer\": \"C\"\n",
    "    }\n",
    "]\n",
    "\n",
    "'''"
   ]
  },
  {
   "cell_type": "code",
   "execution_count": 6,
   "metadata": {},
   "outputs": [],
   "source": [
    "response = model.generate_content(poompt)"
   ]
  },
  {
   "cell_type": "code",
   "execution_count": 7,
   "metadata": {},
   "outputs": [
    {
     "data": {
      "text/markdown": [
       "> ```json\n",
       "> [\n",
       ">     {\n",
       ">         \"question\": \"Who is the main character of the story Rabbit and Turtle?\",\n",
       ">         \"options\": [\"Rabbit\", \"Turtle\", \"Pig\", \"Ant\"],\n",
       ">         \"answer\": \"A\"\n",
       ">     },\n",
       ">     {\n",
       ">         \"question\": \"What was Rabbit's biggest flaw?\",\n",
       ">         \"options\": [\"Laziness\", \"Overconfidence\", \"Greed\", \"Kindness\"],\n",
       ">         \"answer\": \"B\"\n",
       ">     },\n",
       ">     {\n",
       ">         \"question\": \"How did Turtle beat Rabbit in the race?\",\n",
       ">         \"options\": [\"He used a magic spell\", \"He took a shortcut\", \"He worked hard and never gave up\", \"He cheated\"],\n",
       ">         \"answer\": \"C\"\n",
       ">     },\n",
       ">     {\n",
       ">         \"question\": \"What is the moral of the story Rabbit and Turtle?\",\n",
       ">         \"options\": [\"Slow and steady wins the race\", \"Don't be overconfident\", \"It's okay to be lazy\", \"Never give up\"],\n",
       ">         \"answer\": \"A\"\n",
       ">     },\n",
       ">     {\n",
       ">         \"question\": \"What did Rabbit learn from losing the race?\",\n",
       ">         \"options\": [\"To be more humble\", \"To be more hardworking\", \"To be more competitive\", \"To never underestimate his opponents\"],\n",
       ">         \"answer\": \"B\"\n",
       ">     }\n",
       "> ]\n",
       "> ```"
      ],
      "text/plain": [
       "<IPython.core.display.Markdown object>"
      ]
     },
     "execution_count": 7,
     "metadata": {},
     "output_type": "execute_result"
    }
   ],
   "source": [
    "to_markdown(response.text)"
   ]
  },
  {
   "cell_type": "code",
   "execution_count": 8,
   "metadata": {},
   "outputs": [
    {
     "data": {
      "text/plain": [
       "'```json\\n[\\n    {\\n        \"question\": \"Who is the main character of the story Rabbit and Turtle?\",\\n        \"options\": [\"Rabbit\", \"Turtle\", \"Pig\", \"Ant\"],\\n        \"answer\": \"A\"\\n    },\\n    {\\n        \"question\": \"What was Rabbit\\'s biggest flaw?\",\\n        \"options\": [\"Laziness\", \"Overconfidence\", \"Greed\", \"Kindness\"],\\n        \"answer\": \"B\"\\n    },\\n    {\\n        \"question\": \"How did Turtle beat Rabbit in the race?\",\\n        \"options\": [\"He used a magic spell\", \"He took a shortcut\", \"He worked hard and never gave up\", \"He cheated\"],\\n        \"answer\": \"C\"\\n    },\\n    {\\n        \"question\": \"What is the moral of the story Rabbit and Turtle?\",\\n        \"options\": [\"Slow and steady wins the race\", \"Don\\'t be overconfident\", \"It\\'s okay to be lazy\", \"Never give up\"],\\n        \"answer\": \"A\"\\n    },\\n    {\\n        \"question\": \"What did Rabbit learn from losing the race?\",\\n        \"options\": [\"To be more humble\", \"To be more hardworking\", \"To be more competitive\", \"To never underestimate his opponents\"],\\n        \"answer\": \"B\"\\n    }\\n]\\n```'"
      ]
     },
     "execution_count": 8,
     "metadata": {},
     "output_type": "execute_result"
    }
   ],
   "source": [
    "response.text"
   ]
  },
  {
   "cell_type": "code",
   "execution_count": 9,
   "metadata": {},
   "outputs": [],
   "source": [
    "# import re\n",
    "\n",
    "# def extract_questions(json_string):\n",
    "#     questions = {}\n",
    "    \n",
    "#     # Define regex patterns to extract question, options, and answer\n",
    "#     question_pattern = r'\"question\":\\s*\"([^\"]*)\"'\n",
    "#     options_pattern = r'\"options\":\\s*\\[([^\\]]*)\\]'\n",
    "#     answer_pattern = r'\"answer\":\\s*\"([^\"]*)\"'\n",
    "    \n",
    "#     # Find all matches of questions, options, and answers using regex\n",
    "#     question_matches = re.findall(question_pattern, json_string)\n",
    "#     options_matches = re.findall(options_pattern, json_string)\n",
    "#     answer_matches = re.findall(answer_pattern, json_string)\n",
    "    \n",
    "#     # Iterate over matches and populate the dictionary\n",
    "#     for i in range(len(question_matches)):\n",
    "#         question = question_matches[i]\n",
    "#         options = [option.strip('\" ') for option in options_matches[i].split(',')]\n",
    "#         answer = answer_matches[i]\n",
    "#         questions[question] = {\"options\": options, \"answer\": answer}\n",
    "    \n",
    "#     return questions"
   ]
  },
  {
   "cell_type": "code",
   "execution_count": 10,
   "metadata": {},
   "outputs": [],
   "source": [
    "import json\n",
    "import re\n",
    "\n",
    "def extract_questions(json_string):\n",
    "    questions = []\n",
    "    \n",
    "    # Define regex patterns to extract question, options, and answer\n",
    "    question_pattern = r'\"question\":\\s*\"([^\"]*)\"'\n",
    "    options_pattern = r'\"options\":\\s*\\[([^\\]]*)\\]'\n",
    "    answer_pattern = r'\"answer\":\\s*\"([^\"]*)\"'\n",
    "    \n",
    "    # Find all matches of questions, options, and answers using regex\n",
    "    question_matches = re.findall(question_pattern, json_string)\n",
    "    options_matches = re.findall(options_pattern, json_string)\n",
    "    answer_matches = re.findall(answer_pattern, json_string)\n",
    "    \n",
    "    # Map options to letters A, B, C, etc.\n",
    "    option_letters = iter(\"ABCDEFGHIJKLMNOPQRSTUVWXYZ\")\n",
    "    \n",
    "    # Iterate over matches and populate the dictionary\n",
    "    for i in range(len(question_matches)):\n",
    "        question = question_matches[i]\n",
    "        # Split options by comma and strip whitespace and quotes\n",
    "        options = [option.strip('\" ') for option in options_matches[i].replace('\\n', '').split(',')]\n",
    "        answer = answer_matches[i]\n",
    "        # Map answer to its corresponding letter\n",
    "        answer_letter = next(option_letters)\n",
    "        # Append question dictionary to the list\n",
    "        questions.append({\"question\": question, \"options\": options, \"answer\": answer_letter})\n",
    "    \n",
    "    return questions"
   ]
  },
  {
   "cell_type": "code",
   "execution_count": 11,
   "metadata": {},
   "outputs": [
    {
     "data": {
      "text/plain": [
       "[{'question': 'What does Gregor Samsa discover when he wakes up one morning?',\n",
       "  'options': ['He has turned into a giant insect',\n",
       "   'He has lost his job',\n",
       "   'He has become invisible',\n",
       "   'He has gained the ability to fly'],\n",
       "  'answer': 'A'},\n",
       " {'question': \"What is the name of Gregor's boss?\",\n",
       "  'options': ['Mr. Müller', 'Mr. Grubach', 'Mr. K', 'Mr. L'],\n",
       "  'answer': 'B'},\n",
       " {'question': \"What does Gregor's sister do for a living?\",\n",
       "  'options': ['She is a teacher',\n",
       "   'She is a nurse',\n",
       "   'She is a saleswoman',\n",
       "   'She is a doctor'],\n",
       "  'answer': 'C'},\n",
       " {'question': \"What is the name of Gregor's father?\",\n",
       "  'options': ['Gregor', 'Franz', 'Josef', 'Karl'],\n",
       "  'answer': 'D'},\n",
       " {'question': \"What is the name of Gregor's mother?\",\n",
       "  'options': ['Grete', 'Frieda', 'Anna', 'Maria'],\n",
       "  'answer': 'E'},\n",
       " {'question': 'What is the name of the doctor who comes to visit Gregor?',\n",
       "  'options': ['Dr. Hoffmann', 'Dr. Müller', 'Dr. K', 'Dr. L'],\n",
       "  'answer': 'F'},\n",
       " {'question': \"What does Gregor's father throw at him?\",\n",
       "  'options': ['A shoe', 'A book', 'An apple', 'A stone'],\n",
       "  'answer': 'G'},\n",
       " {'question': \"What does Gregor's sister do after Gregor's father throws an apple at him?\",\n",
       "  'options': ['She runs away',\n",
       "   'She screams',\n",
       "   'She faints',\n",
       "   'She helps Gregor'],\n",
       "  'answer': 'H'},\n",
       " {'question': 'What does Gregor eat for breakfast?',\n",
       "  'options': ['Bread and milk',\n",
       "   'Cheese and vegetables',\n",
       "   'Fruit and cereal',\n",
       "   'Eggs and bacon'],\n",
       "  'answer': 'I'},\n",
       " {'question': 'What does Gregor do after he eats breakfast?',\n",
       "  'options': ['He goes back to sleep',\n",
       "   'He goes for a walk',\n",
       "   'He reads a book',\n",
       "   'He watches TV'],\n",
       "  'answer': 'J'}]"
      ]
     },
     "execution_count": 11,
     "metadata": {},
     "output_type": "execute_result"
    }
   ],
   "source": [
    "jsonn=''' \n",
    " [\\n {\\n \"question\": \"What does Gregor Samsa discover when he wakes up one morning?\",\\n \"options\": [\"He has turned into a giant insect\", \"He has lost his job\", \"He has become invisible\", \"He has gained the ability to fly\"],\\n \"answer\": \"A\"\\n },\\n {\\n \"question\": \"What is the name of Gregor's boss?\",\\n \"options\": [\"Mr. Müller\", \"Mr. Grubach\", \"Mr. K\", \"Mr. L\"],\\n \"answer\": \"B\"\\n },\\n {\\n \"question\": \"What does Gregor's sister do for a living?\",\\n \"options\": [\"She is a teacher\", \"She is a nurse\", \"She is a saleswoman\", \"She is a doctor\"],\\n \"answer\": \"C\"\\n },\\n {\\n \"question\": \"What is the name of Gregor's father?\",\\n \"options\": [\"Gregor\", \"Franz\", \"Josef\", \"Karl\"],\\n \"answer\": \"A\"\\n },\\n {\\n \"question\": \"What is the name of Gregor's mother?\",\\n \"options\": [\"Grete\", \"Frieda\", \"Anna\", \"Maria\"],\\n \"answer\": \"A\"\\n },\\n {\\n \"question\": \"What is the name of the doctor who comes to visit Gregor?\",\\n \"options\": [\"Dr. Hoffmann\", \"Dr. Müller\", \"Dr. K\", \"Dr. L\"],\\n \"answer\": \"A\"\\n },\\n {\\n \"question\": \"What does Gregor's father throw at him?\",\\n \"options\": [\"A shoe\", \"A book\", \"An apple\", \"A stone\"],\\n \"answer\": \"C\"\\n },\\n {\\n \"question\": \"What does Gregor's sister do after Gregor's father throws an apple at him?\",\\n \"options\": [\"She runs away\", \"She screams\", \"She faints\", \"She helps Gregor\"],\\n \"answer\": \"D\"\\n },\\n {\\n \"question\": \"What does Gregor eat for breakfast?\",\\n \"options\": [\"Bread and milk\", \"Cheese and vegetables\", \"Fruit and cereal\", \"Eggs and bacon\"],\\n \"answer\": \"B\"\\n },\\n {\\n \"question\": \"What does Gregor do after he eats breakfast?\",\\n \"options\": [\"He goes back to sleep\", \"He goes for a walk\", \"He reads a book\", \"He watches TV\"],\\n \"answer\": \"A\"\\n }\\n]\\n\n",
    "'''\n",
    "xc=extract_questions(jsonn)\n",
    "xc"
   ]
  },
  {
   "cell_type": "code",
   "execution_count": 12,
   "metadata": {},
   "outputs": [],
   "source": [
    "import json\n",
    "def save_q(answers):\n",
    "    file_path = r\"D:\\Github\\Edu-AiX\\Jsons\"\n",
    "    with open(file_path, \"w\") as json_file:\n",
    "        json.dump(answers, json_file)"
   ]
  },
  {
   "cell_type": "code",
   "execution_count": 13,
   "metadata": {},
   "outputs": [
    {
     "data": {
      "text/plain": [
       "[{'question': 'Who is the main character of the story Rabbit and Turtle?',\n",
       "  'options': ['Rabbit', 'Turtle', 'Pig', 'Ant'],\n",
       "  'answer': 'A'},\n",
       " {'question': \"What was Rabbit's biggest flaw?\",\n",
       "  'options': ['Laziness', 'Overconfidence', 'Greed', 'Kindness'],\n",
       "  'answer': 'B'},\n",
       " {'question': 'How did Turtle beat Rabbit in the race?',\n",
       "  'options': ['He used a magic spell',\n",
       "   'He took a shortcut',\n",
       "   'He worked hard and never gave up',\n",
       "   'He cheated'],\n",
       "  'answer': 'C'},\n",
       " {'question': 'What is the moral of the story Rabbit and Turtle?',\n",
       "  'options': ['Slow and steady wins the race',\n",
       "   \"Don't be overconfident\",\n",
       "   \"It's okay to be lazy\",\n",
       "   'Never give up'],\n",
       "  'answer': 'D'},\n",
       " {'question': 'What did Rabbit learn from losing the race?',\n",
       "  'options': ['To be more humble',\n",
       "   'To be more hardworking',\n",
       "   'To be more competitive',\n",
       "   'To never underestimate his opponents'],\n",
       "  'answer': 'E'}]"
      ]
     },
     "execution_count": 13,
     "metadata": {},
     "output_type": "execute_result"
    }
   ],
   "source": [
    "questions_dict=extract_questions(response.text)\n",
    "questions_dict"
   ]
  },
  {
   "cell_type": "code",
   "execution_count": 14,
   "metadata": {},
   "outputs": [
    {
     "ename": "PermissionError",
     "evalue": "[Errno 13] Permission denied: 'D:\\\\Github\\\\Edu-AiX\\\\Jsons'",
     "output_type": "error",
     "traceback": [
      "\u001b[1;31m---------------------------------------------------------------------------\u001b[0m",
      "\u001b[1;31mPermissionError\u001b[0m                           Traceback (most recent call last)",
      "Cell \u001b[1;32mIn[14], line 1\u001b[0m\n\u001b[1;32m----> 1\u001b[0m \u001b[43msave_q\u001b[49m\u001b[43m(\u001b[49m\u001b[43mquestions_dict\u001b[49m\u001b[43m)\u001b[49m\n",
      "Cell \u001b[1;32mIn[12], line 4\u001b[0m, in \u001b[0;36msave_q\u001b[1;34m(answers)\u001b[0m\n\u001b[0;32m      2\u001b[0m \u001b[38;5;28;01mdef\u001b[39;00m \u001b[38;5;21msave_q\u001b[39m(answers):\n\u001b[0;32m      3\u001b[0m     file_path \u001b[38;5;241m=\u001b[39m \u001b[38;5;124mr\u001b[39m\u001b[38;5;124m\"\u001b[39m\u001b[38;5;124mD:\u001b[39m\u001b[38;5;124m\\\u001b[39m\u001b[38;5;124mGithub\u001b[39m\u001b[38;5;124m\\\u001b[39m\u001b[38;5;124mEdu-AiX\u001b[39m\u001b[38;5;124m\\\u001b[39m\u001b[38;5;124mJsons\u001b[39m\u001b[38;5;124m\"\u001b[39m\n\u001b[1;32m----> 4\u001b[0m     \u001b[38;5;28;01mwith\u001b[39;00m \u001b[38;5;28;43mopen\u001b[39;49m\u001b[43m(\u001b[49m\u001b[43mfile_path\u001b[49m\u001b[43m,\u001b[49m\u001b[43m \u001b[49m\u001b[38;5;124;43m\"\u001b[39;49m\u001b[38;5;124;43mw\u001b[39;49m\u001b[38;5;124;43m\"\u001b[39;49m\u001b[43m)\u001b[49m \u001b[38;5;28;01mas\u001b[39;00m json_file:\n\u001b[0;32m      5\u001b[0m         json\u001b[38;5;241m.\u001b[39mdump(answers, json_file)\n",
      "File \u001b[1;32m~\\AppData\\Roaming\\Python\\Python311\\site-packages\\IPython\\core\\interactiveshell.py:324\u001b[0m, in \u001b[0;36m_modified_open\u001b[1;34m(file, *args, **kwargs)\u001b[0m\n\u001b[0;32m    317\u001b[0m \u001b[38;5;28;01mif\u001b[39;00m file \u001b[38;5;129;01min\u001b[39;00m {\u001b[38;5;241m0\u001b[39m, \u001b[38;5;241m1\u001b[39m, \u001b[38;5;241m2\u001b[39m}:\n\u001b[0;32m    318\u001b[0m     \u001b[38;5;28;01mraise\u001b[39;00m \u001b[38;5;167;01mValueError\u001b[39;00m(\n\u001b[0;32m    319\u001b[0m         \u001b[38;5;124mf\u001b[39m\u001b[38;5;124m\"\u001b[39m\u001b[38;5;124mIPython won\u001b[39m\u001b[38;5;124m'\u001b[39m\u001b[38;5;124mt let you open fd=\u001b[39m\u001b[38;5;132;01m{\u001b[39;00mfile\u001b[38;5;132;01m}\u001b[39;00m\u001b[38;5;124m by default \u001b[39m\u001b[38;5;124m\"\u001b[39m\n\u001b[0;32m    320\u001b[0m         \u001b[38;5;124m\"\u001b[39m\u001b[38;5;124mas it is likely to crash IPython. If you know what you are doing, \u001b[39m\u001b[38;5;124m\"\u001b[39m\n\u001b[0;32m    321\u001b[0m         \u001b[38;5;124m\"\u001b[39m\u001b[38;5;124myou can use builtins\u001b[39m\u001b[38;5;124m'\u001b[39m\u001b[38;5;124m open.\u001b[39m\u001b[38;5;124m\"\u001b[39m\n\u001b[0;32m    322\u001b[0m     )\n\u001b[1;32m--> 324\u001b[0m \u001b[38;5;28;01mreturn\u001b[39;00m \u001b[43mio_open\u001b[49m\u001b[43m(\u001b[49m\u001b[43mfile\u001b[49m\u001b[43m,\u001b[49m\u001b[43m \u001b[49m\u001b[38;5;241;43m*\u001b[39;49m\u001b[43margs\u001b[49m\u001b[43m,\u001b[49m\u001b[43m \u001b[49m\u001b[38;5;241;43m*\u001b[39;49m\u001b[38;5;241;43m*\u001b[39;49m\u001b[43mkwargs\u001b[49m\u001b[43m)\u001b[49m\n",
      "\u001b[1;31mPermissionError\u001b[0m: [Errno 13] Permission denied: 'D:\\\\Github\\\\Edu-AiX\\\\Jsons'"
     ]
    }
   ],
   "source": [
    "save_q(questions_dict)"
   ]
  },
  {
   "cell_type": "code",
   "execution_count": 15,
   "metadata": {},
   "outputs": [
    {
     "data": {
      "text/plain": [
       "[index: 0\n",
       "content {\n",
       "  parts {\n",
       "    text: \"```json\\n[\\n    {\\n        \\\"question\\\": \\\"Who is the main character of the story Rabbit and Turtle?\\\",\\n        \\\"options\\\": [\\\"Rabbit\\\", \\\"Turtle\\\", \\\"Pig\\\", \\\"Ant\\\"],\\n        \\\"answer\\\": \\\"A\\\"\\n    },\\n    {\\n        \\\"question\\\": \\\"What was Rabbit\\'s biggest flaw?\\\",\\n        \\\"options\\\": [\\\"Laziness\\\", \\\"Overconfidence\\\", \\\"Greed\\\", \\\"Kindness\\\"],\\n        \\\"answer\\\": \\\"B\\\"\\n    },\\n    {\\n        \\\"question\\\": \\\"How did Turtle beat Rabbit in the race?\\\",\\n        \\\"options\\\": [\\\"He used a magic spell\\\", \\\"He took a shortcut\\\", \\\"He worked hard and never gave up\\\", \\\"He cheated\\\"],\\n        \\\"answer\\\": \\\"C\\\"\\n    },\\n    {\\n        \\\"question\\\": \\\"What is the moral of the story Rabbit and Turtle?\\\",\\n        \\\"options\\\": [\\\"Slow and steady wins the race\\\", \\\"Don\\'t be overconfident\\\", \\\"It\\'s okay to be lazy\\\", \\\"Never give up\\\"],\\n        \\\"answer\\\": \\\"A\\\"\\n    },\\n    {\\n        \\\"question\\\": \\\"What did Rabbit learn from losing the race?\\\",\\n        \\\"options\\\": [\\\"To be more humble\\\", \\\"To be more hardworking\\\", \\\"To be more competitive\\\", \\\"To never underestimate his opponents\\\"],\\n        \\\"answer\\\": \\\"B\\\"\\n    }\\n]\\n```\"\n",
       "  }\n",
       "  role: \"model\"\n",
       "}\n",
       "finish_reason: STOP\n",
       "safety_ratings {\n",
       "  category: HARM_CATEGORY_SEXUALLY_EXPLICIT\n",
       "  probability: NEGLIGIBLE\n",
       "}\n",
       "safety_ratings {\n",
       "  category: HARM_CATEGORY_HATE_SPEECH\n",
       "  probability: NEGLIGIBLE\n",
       "}\n",
       "safety_ratings {\n",
       "  category: HARM_CATEGORY_HARASSMENT\n",
       "  probability: NEGLIGIBLE\n",
       "}\n",
       "safety_ratings {\n",
       "  category: HARM_CATEGORY_DANGEROUS_CONTENT\n",
       "  probability: NEGLIGIBLE\n",
       "}\n",
       "]"
      ]
     },
     "execution_count": 15,
     "metadata": {},
     "output_type": "execute_result"
    }
   ],
   "source": [
    "response.candidates"
   ]
  },
  {
   "cell_type": "code",
   "execution_count": 16,
   "metadata": {},
   "outputs": [
    {
     "name": "stdout",
     "output_type": "stream",
     "text": [
      "[\n",
      "    {\n",
      "        \"question\": \"Who was the boastful and overconfident character in the story?\",\n",
      "        \"options\": [\n",
      "            \"Rabbit\",\n",
      "            \"Turtle\",\n",
      "            \"Fox\",\n",
      "            \"Lion\"\n",
      "        ],\n",
      "        \"answer\": \"A\"\n",
      "    },\n",
      "    {\n",
      "        \"question\": \"What did the rabbit do when he thought he was ahead?\",\n",
      "        \"options\": [\n",
      "            \"Continued running\",\n",
      "            \"Took a nap under a tree\",\n",
      "            \"Helped the turtle\",\n",
      "            \"Ate a carrot\"\n",
      "        ],\n",
      "        \"answer\": \"B\"\n",
      "    },\n",
      "    {\n",
      "        \"question\": \"What quality helped the turtle win the race?\",\n",
      "        \"options\": [\n",
      "            \"Speed\",\n",
      "            \"Strength\",\n",
      "            \"Persistence\",\n",
      "            \"Luck\"\n",
      "        ],\n",
      "        \"answer\": \"C\"\n",
      "    },\n",
      "    {\n",
      "        \"question\": \"What lesson did the rabbit learn from the race?\",\n",
      "        \"options\": [\n",
      "            \"To be more cautious\",\n",
      "            \"To not take things for granted\",\n",
      "            \"To never give up\",\n",
      "            \"To stay active\"\n",
      "        ],\n",
      "        \"answer\": \"D\"\n",
      "    },\n",
      "    {\n",
      "        \"question\": \"What is the moral of the story?\",\n",
      "        \"options\": [\n",
      "            \"Slow and steady wins the race\",\n",
      "            \"Winners never quit\",\n",
      "            \"Pride comes before a fall\",\n",
      "            \"Teamwork is important\"\n",
      "        ],\n",
      "        \"answer\": \"E\"\n",
      "    }\n",
      "]\n"
     ]
    }
   ],
   "source": [
    "# Example usage\n",
    "json_string = '''```json\n",
    "[\n",
    "    {\n",
    "        \"question\": \"Who was the boastful and overconfident character in the story?\",\n",
    "        \"options\": [\"Rabbit\", \"Turtle\", \"Fox\", \"Lion\"],\n",
    "        \"answer\": \"Rabbit\"\n",
    "    },\n",
    "    {\n",
    "        \"question\": \"What did the rabbit do when he thought he was ahead?\",\n",
    "        \"options\": [\"Continued running\", \"Took a nap under a tree\", \"Helped the turtle\", \"Ate a carrot\"],\n",
    "        \"answer\": \"Took a nap under a tree\"\n",
    "    },\n",
    "    {\n",
    "        \"question\": \"What quality helped the turtle win the race?\",\n",
    "        \"options\": [\"Speed\", \"Strength\", \"Persistence\", \"Luck\"],\n",
    "        \"answer\": \"Persistence\"\n",
    "    },\n",
    "    {\n",
    "        \"question\": \"What lesson did the rabbit learn from the race?\",\n",
    "        \"options\": [\"To be more cautious\", \"To not take things for granted\", \"To never give up\", \"To stay active\"],\n",
    "        \"answer\": \"To not take things for granted\"\n",
    "    },\n",
    "    {\n",
    "        \"question\": \"What is the moral of the story?\",\n",
    "        \"options\": [\"Slow and steady wins the race\", \"Winners never quit\", \"Pride comes before a fall\", \"Teamwork is important\"],\n",
    "        \"answer\": \"Slow and steady wins the race\"\n",
    "    }\n",
    "]\n",
    "```'''\n",
    "\n",
    "questions_list = extract_questions(json_string)\n",
    "print(json.dumps(questions_list, indent=4))"
   ]
  }
 ],
 "metadata": {
  "kernelspec": {
   "display_name": "Python 3",
   "language": "python",
   "name": "python3"
  },
  "language_info": {
   "codemirror_mode": {
    "name": "ipython",
    "version": 3
   },
   "file_extension": ".py",
   "mimetype": "text/x-python",
   "name": "python",
   "nbconvert_exporter": "python",
   "pygments_lexer": "ipython3",
   "version": "3.11.9"
  }
 },
 "nbformat": 4,
 "nbformat_minor": 2
}
